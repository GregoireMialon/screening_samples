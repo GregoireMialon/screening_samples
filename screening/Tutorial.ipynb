{
 "cells": [
  {
   "cell_type": "code",
   "execution_count": 1,
   "metadata": {
    "collapsed": true
   },
   "outputs": [],
   "source": [
    "from experiment import experiment"
   ]
  },
  {
   "cell_type": "markdown",
   "metadata": {},
   "source": [
    "*IMPORTANT* : As long as your data `ckn_mnist.mat` is in the same folder as the code, the experiment should run correctly."
   ]
  },
  {
   "cell_type": "markdown",
   "metadata": {},
   "source": [
    "# Running an experiment"
   ]
  },
  {
   "cell_type": "markdown",
   "metadata": {},
   "source": [
    "### Your parameters"
   ]
  },
  {
   "cell_type": "markdown",
   "metadata": {},
   "source": [
    "The definition of each parameter is given in `experiment.py`'s `argparse` block."
   ]
  },
  {
   "cell_type": "code",
   "execution_count": 8,
   "metadata": {},
   "outputs": [],
   "source": [
    "dataset = 'mnist'\n",
    "size = 60000 # size of the dataset you want to use\n",
    "lmbda = 0.1 # penalty parameter\n",
    "n_ell_steps = 10000 # nb of ellipsoid iteration you want to perform\n",
    "subset_size = 1000 # you may want to compute the ellipsoid on a subset of datapoints to avoid memory issues"
   ]
  },
  {
   "cell_type": "markdown",
   "metadata": {},
   "source": [
    "You're now launching an experiment (you can ajust the reproducibility parameters `nb_exp` and `nb_test` to go faster)."
   ]
  },
  {
   "cell_type": "code",
   "execution_count": null,
   "metadata": {},
   "outputs": [
    {
     "name": "stdout",
     "output_type": "stream",
     "text": [
      "Shape of original MNIST (60000, 2304)\n"
     ]
    }
   ],
   "source": [
    "experiment(path='./', dataset=dataset, size=size, redundant=0, noise=0, nb_delete_steps=10, \n",
    "lmbda=lmbda, mu=1, classification=True, loss='hinge', penalty='l2', intercept=False, classif_score=True, \n",
    "n_ellipsoid_steps=n_ell_steps, better_init=0, better_radius=0, cut=True, get_ell_from_subset=subset_size,\n",
    "clip_ell=False, nb_exp=2, nb_test=2, plot=True, zoom= [0.2, 0.7])"
   ]
  },
  {
   "cell_type": "code",
   "execution_count": null,
   "metadata": {
    "collapsed": true
   },
   "outputs": [],
   "source": []
  }
 ],
 "metadata": {
  "kernelspec": {
   "display_name": "Python 3",
   "language": "python",
   "name": "python3"
  },
  "language_info": {
   "codemirror_mode": {
    "name": "ipython",
    "version": 3
   },
   "file_extension": ".py",
   "mimetype": "text/x-python",
   "name": "python",
   "nbconvert_exporter": "python",
   "pygments_lexer": "ipython3",
   "version": "3.6.3"
  }
 },
 "nbformat": 4,
 "nbformat_minor": 2
}
