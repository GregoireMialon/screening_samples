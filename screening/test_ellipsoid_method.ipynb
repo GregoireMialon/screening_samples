{
 "cells": [
  {
   "cell_type": "code",
   "execution_count": 5,
   "metadata": {},
   "outputs": [],
   "source": [
    "from tools import *\n",
    "from experiment import *\n",
    "from screening import *\n",
    "from sklearn.model_selection import train_test_split\n",
    "import time"
   ]
  },
  {
   "cell_type": "code",
   "execution_count": 6,
   "metadata": {
    "collapsed": true
   },
   "outputs": [],
   "source": [
    "def make_data_classification(n, p, sparsity):\n",
    "    X = np.zeros((n,p))\n",
    "    y = np.zeros(n)\n",
    "    true_params = rand(p, 1, density = sparsity).A.ravel()\n",
    "    #print(np.linalg.norm(true_params, ord=1))\n",
    "    sparse_ones = np.zeros(p)\n",
    "    for i in range(p):\n",
    "        if true_params[i] != 0:\n",
    "            sparse_ones[i] = 1\n",
    "    true_params = 2 * true_params - sparse_ones\n",
    "\n",
    "    for i in range(n):\n",
    "        # sample x in [-1,1]^p box\n",
    "        x = 2 * np.random.rand(p) - np.ones(p) \n",
    "        X[i,:] = x\n",
    "        out = np.dot(true_params,x)\n",
    "        w = np.random.randn(1) / 10\n",
    "        out += w\n",
    "        if out > 0:\n",
    "            y[i] = 1\n",
    "        else:\n",
    "            y[i] = -1\n",
    "\n",
    "    return X, y, true_params\n",
    "\n",
    "def update_ellipsoid_low_dim(z, A, g):\n",
    "    p = z.size\n",
    "    A_g = A.dot(g)\n",
    "    den = np.sqrt(g.dot(A_g))\n",
    "    g = (1 / den) * g\n",
    "    A_g = A.dot(g)\n",
    "    z = z - (1 / (p + 1)) * A_g\n",
    "    A = (p ** 2 / (p ** 2 - 1)) * (A - (2 / (p + 1)) * np.outer(A_g, A_g))\n",
    "    return z, A\n",
    "\n",
    "def iterate_ellipsoids_low_dim(D, y, z_init, A_init, lmbda, mu, loss, penalty, intercept, n_steps=100):\n",
    "    if intercept:\n",
    "        X = np.concatenate((D, np.ones(D.shape[0]).reshape(1,-1).T), axis=1)\n",
    "    else:\n",
    "        X = D\n",
    "    start = time.time()\n",
    "    k = 0\n",
    "    z = z_init\n",
    "    A = A_init\n",
    "    while k < n_steps:\n",
    "        g = compute_subgradient(z, X, y, lmbda, mu, loss, penalty, intercept)\n",
    "        z, A = update_ellipsoid_low_dim(z, A, g)\n",
    "        k += 1\n",
    "    end = time.time()\n",
    "    print('Time to compute z and A low dim:', end - start)\n",
    "    return z, A"
   ]
  },
  {
   "cell_type": "code",
   "execution_count": 12,
   "metadata": {},
   "outputs": [
    {
     "name": "stdout",
     "output_type": "stream",
     "text": [
      "(60000, 2304)\n"
     ]
    },
    {
     "data": {
      "text/plain": [
       "(100, 2304)"
      ]
     },
     "execution_count": 12,
     "metadata": {},
     "output_type": "execute_result"
    }
   ],
   "source": [
    "nb_points = 1000\n",
    "sparsity = 1\n",
    "dim = 10\n",
    "#X, y, true_params, noise_norm = make_data(nb_points, dim, sparsity)\n",
    "#X, y, true_params = make_data_classification(nb_points, dim, sparsity)\n",
    "#X, y = load_higgs('./datasets/')\n",
    "X, y = load_mnist('./datasets/')\n",
    "X, X_test, y, y_test = train_test_split(X, y, test_size=0.2)\n",
    "X = X[:100]\n",
    "y = y[:100]\n",
    "nb_points = X.shape[0]\n",
    "dim = X.shape[1]\n",
    "nb_points, dim"
   ]
  },
  {
   "cell_type": "code",
   "execution_count": 13,
   "metadata": {},
   "outputs": [
    {
     "name": "stdout",
     "output_type": "stream",
     "text": [
      "0.92\n"
     ]
    }
   ],
   "source": [
    "best_est, score = find_best_svm(X, y)\n",
    "#best_est, score = find_best_lasso(X, y)\n",
    "print(score)"
   ]
  },
  {
   "cell_type": "code",
   "execution_count": 14,
   "metadata": {},
   "outputs": [
    {
     "name": "stdout",
     "output_type": "stream",
     "text": [
      "16.3544365129\n"
     ]
    }
   ],
   "source": [
    "#true_params = np.append(best_svm.coef_, best_svm.intercept_)\n",
    "true_params = best_est.coef_\n",
    "print(np.linalg.norm(true_params))\n",
    "best_est_params = best_est.get_params()"
   ]
  },
  {
   "cell_type": "code",
   "execution_count": 16,
   "metadata": {},
   "outputs": [
    {
     "name": "stdout",
     "output_type": "stream",
     "text": [
      "N_STEPS 1000\n",
      "Time to compute z and A: 4.458199739456177\n",
      "SORTED (48.0090352524+0j)\n",
      "Z [  2.87744348e-03   1.89949534e-03   7.19113264e-03 ...,   1.39094775e-03\n",
      "  -7.58567836e-06  -1.49404598e-03]\n",
      "TRUE PARAMS [[ 0.0177622  -0.07159198  0.07208677 ...,  0.2471912   0.06214971\n",
      "   0.023293  ]] (1, 2304)\n",
      "N_STEPS 10000\n",
      "Time to compute z and A: 808.2925255298615\n",
      "SORTED (48.0904290962+0j)\n",
      "Z [ 0.04472435 -0.00466247  0.06867744 ...,  0.03858875  0.015068   -0.00019063]\n",
      "TRUE PARAMS [[ 0.0177622  -0.07159198  0.07208677 ...,  0.2471912   0.06214971\n",
      "   0.023293  ]] (1, 2304)\n"
     ]
    }
   ],
   "source": [
    "def test(dim, n_steps, lmbda, mu, loss, penalty, intercept):\n",
    "    print('N_STEPS', n_steps)\n",
    "    r_init = np.sqrt(dim)\n",
    "    if intercept:\n",
    "        z_init = np.array(np.zeros(dim + 1))\n",
    "        A_init = r_init * np.identity(dim + 1)\n",
    "    else:\n",
    "        z_init = np.array(np.zeros(dim))\n",
    "        A_init = r_init * np.identity(dim)\n",
    "    z, scaling, L, I_k_vec = iterate_ellipsoids_accelerated_(X, y, z_init, r_init, lmbda=lmbda, mu=mu, \n",
    "                                                            loss='hinge', penalty='l2', n_steps=n_steps, \n",
    "                                                             intercept=intercept)\n",
    "    if intercept:\n",
    "        A = scaling * np.identity(dim + 1) - L.dot(np.dot(np.diag(I_k_vec), L.T))\n",
    "    else:   \n",
    "        A = scaling * np.identity(dim) - L.dot(np.dot(np.diag(I_k_vec), L.T))\n",
    "    radius = np.linalg.eig(A)[0]\n",
    "    sorted_ = np.sort(radius)[dim - 1]\n",
    "    print('SORTED', sorted_)\n",
    "    print('Z', z)\n",
    "    \n",
    "    #z, A = iterate_ellipsoids_low_dim(X, y, z_init, A_init, lmbda=lmbda, mu=mu, loss=loss, penalty=penalty, intercept=intercept, n_steps=n_steps)\n",
    "    #radius = np.linalg.eig(A)[0]\n",
    "    #sorted_ = np.sort(radius)\n",
    "    #print('SORTED', sorted_[dim - 1])\n",
    "    #print('Z', z, len(z))\n",
    "    #A = scaling * np.identity(dim) - L.dot(np.dot(np.diag(I_k_vec), L.T))\n",
    "    #radius = np.linalg.eig(A)[0]\n",
    "    #sorted_ = np.sort(radius)\n",
    "    #print('SORTED', sorted_)\n",
    "    #print('Z', z)\n",
    "    \n",
    "    print('TRUE PARAMS', true_params, true_params.shape)\n",
    "    \n",
    "    #print('DIFF_S', np.linalg.norm((true_params - z_s) / true_params))\n",
    "    #print('DIFF', np.linalg.norm((true_params - z) / true_params))\n",
    "    \n",
    "    return\n",
    "    \n",
    "for n_steps in [1000, 10000]:\n",
    "    test(dim, n_steps, lmbda= 1 / best_est_params['C'], mu=1, loss='hinge', penalty='l2', intercept=best_est_params['fit_intercept']) "
   ]
  },
  {
   "cell_type": "markdown",
   "metadata": {},
   "source": [
    "# Low dim"
   ]
  },
  {
   "cell_type": "code",
   "execution_count": 8,
   "metadata": {},
   "outputs": [
    {
     "name": "stdout",
     "output_type": "stream",
     "text": [
      "Time to compute z and A low dim: 28.719488859176636\n"
     ]
    }
   ],
   "source": [
    "dim = 28\n",
    "z_init = np.array(np.zeros(dim))\n",
    "A_init = dim * np.identity(dim)\n",
    "z, A = iterate_ellipsoids_low_dim(X_train[:1000], y_train[:1000], z_init, A_init, lmbda=0.1, mu=1, loss='hinge', penalty='l2', intercept=False, n_steps=10000)"
   ]
  },
  {
   "cell_type": "code",
   "execution_count": 9,
   "metadata": {},
   "outputs": [
    {
     "name": "stdout",
     "output_type": "stream",
     "text": [
      "[ 0.10261051 -0.0040001  -0.03394586 -0.2497604   0.08721035  0.14250697\n",
      "  0.00451449  0.08864186  0.04326214  0.08519501 -0.01096486  0.03194706\n",
      "  0.01085868  0.06551451  0.06225054 -0.08885447 -0.04542972  0.04044627\n",
      " -0.03552061  0.04761069  0.07490089  0.07573072  0.08979203  0.12364314\n",
      "  0.12746536 -0.20361338  0.0209     -0.06112422] [  1.12612620e-08   5.41617272e-08   7.09837152e-08   9.72097437e-08\n",
      "   1.51610969e-07   2.62768930e-07   6.72121693e-07   2.73303184e-06\n",
      "   8.07286997e-04   8.11925098e-04   8.43654662e-04   8.62796045e-04\n",
      "   9.01505092e-04   9.17969712e-04   9.38461981e-04   9.51477876e-04\n",
      "   9.56934175e-04   9.61626901e-04   9.93126245e-04   1.00745180e-03\n",
      "   1.03263915e-03   1.05390093e-03   1.07634493e-03   1.09571179e-03\n",
      "   1.11841754e-03   1.15144699e-03   1.18906554e-03   1.22721760e-03]\n"
     ]
    }
   ],
   "source": [
    "print(z, np.sort(np.linalg.eig(A)[0]))"
   ]
  },
  {
   "cell_type": "code",
   "execution_count": 81,
   "metadata": {},
   "outputs": [
    {
     "name": "stdout",
     "output_type": "stream",
     "text": [
      "False\n"
     ]
    }
   ],
   "source": [
    "print([1, 2] == None)"
   ]
  },
  {
   "cell_type": "markdown",
   "metadata": {},
   "source": [
    "## MNIST"
   ]
  },
  {
   "cell_type": "code",
   "execution_count": 17,
   "metadata": {
    "collapsed": true
   },
   "outputs": [],
   "source": [
    "import numpy as np\n",
    "import matplotlib.pyplot as plt\n",
    "import sklearn\n",
    "from scipy.sparse import rand\n",
    "import random\n",
    "import time\n",
    "from sklearn.model_selection import train_test_split\n",
    "import sys\n",
    "sys.path.append('/nas/home2/g/gmialon/research/safe_datapoints')\n",
    "from tools import *\n",
    "from screening import *\n",
    "from experiment import *\n",
    "import os\n",
    "from sklearn.datasets import load_diabetes, load_boston, fetch_20newsgroups\n",
    "from sklearn.feature_extraction.text import TfidfVectorizer\n",
    "from sklearn.svm import LinearSVC\n",
    "import os\n",
    "import pickle\n",
    "%matplotlib inline"
   ]
  },
  {
   "cell_type": "code",
   "execution_count": 19,
   "metadata": {},
   "outputs": [
    {
     "name": "stdout",
     "output_type": "stream",
     "text": [
      "(60000, 2304)\n"
     ]
    }
   ],
   "source": [
    "X, y = load_mnist('./datasets/')\n"
   ]
  },
  {
   "cell_type": "code",
   "execution_count": 20,
   "metadata": {},
   "outputs": [
    {
     "data": {
      "text/plain": [
       "(11898, 2304)"
      ]
     },
     "execution_count": 20,
     "metadata": {},
     "output_type": "execute_result"
    }
   ],
   "source": [
    "X.shape"
   ]
  },
  {
   "cell_type": "code",
   "execution_count": 21,
   "metadata": {},
   "outputs": [
    {
     "name": "stdout",
     "output_type": "stream",
     "text": [
      "(11779, 2304) (11779,)\n",
      "(LinearSVC(C=100, class_weight=None, dual=True, fit_intercept=False,\n",
      "     intercept_scaling=1, loss='hinge', max_iter=10000, multi_class='ovr',\n",
      "     penalty='l2', random_state=None, tol=0.0001, verbose=0), 0.99397232362679344)\n"
     ]
    }
   ],
   "source": [
    "X, _, y, _ = train_test_split(X, y, test_size=0.01)\n",
    "print(X.shape, y.shape)\n",
    "print(find_best_svm(X, y))"
   ]
  },
  {
   "cell_type": "code",
   "execution_count": null,
   "metadata": {
    "collapsed": true
   },
   "outputs": [],
   "source": []
  }
 ],
 "metadata": {
  "kernelspec": {
   "display_name": "Python 3",
   "language": "python",
   "name": "python3"
  },
  "language_info": {
   "codemirror_mode": {
    "name": "ipython",
    "version": 3
   },
   "file_extension": ".py",
   "mimetype": "text/x-python",
   "name": "python",
   "nbconvert_exporter": "python",
   "pygments_lexer": "ipython3",
   "version": "3.6.3"
  }
 },
 "nbformat": 4,
 "nbformat_minor": 2
}
