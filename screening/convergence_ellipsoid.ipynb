{
 "cells": [
  {
   "cell_type": "code",
   "execution_count": 1,
   "metadata": {
    "collapsed": true
   },
   "outputs": [],
   "source": [
    "#from screening import experiment_get_ellipsoid\n",
    "from tools import find_best_svm, compute_ellipsoid_volume, find_best_lasso, scoring_classif\n",
    "from experiment import experiment_get_ellipsoid\n",
    "from loaders import load_experiment\n",
    "from screening import rank_dataset_accelerated, compute_subgradient\n",
    "from safelog import SafeLogistic\n",
    "import numpy as np\n",
    "from sklearn.utils import shuffle\n",
    "from sklearn.linear_model import SGDClassifier\n",
    "from sklearn.model_selection import train_test_split\n",
    "path = './datasets/'"
   ]
  },
  {
   "cell_type": "code",
   "execution_count": 2,
   "metadata": {
    "collapsed": true
   },
   "outputs": [],
   "source": [
    "def update_ellipsoid(z, A, g):\n",
    "    p = z.size\n",
    "    A_g = A.dot(g)\n",
    "    den = np.sqrt(g.dot(A_g))\n",
    "    g = (1 / den) * g\n",
    "    A_g = A.dot(g)\n",
    "    z = z - (1 / (p + 1)) * A_g\n",
    "    A = (p ** 2 / (p ** 2 - 1)) * (A - (2 / (p + 1)) * np.outer(A_g, A_g))\n",
    "    return z, A\n",
    "\n",
    "def iterate_ellipsoids(D, y, z_init, r_init, lmbda, mu, loss, penalty, n_ellipsoid_steps, intercept):\n",
    "    k = 0\n",
    "    z = z_init\n",
    "    A = r_init * np.identity(D.shape[1])\n",
    "    while k < n_ellipsoid_steps:\n",
    "        g = compute_subgradient(z, D, y, lmbda, mu, loss, penalty, intercept)\n",
    "        z, A = update_ellipsoid(z, A, g)\n",
    "        k += 1 \n",
    "    return z, A\n",
    "\n",
    "def experiment_get_ellipsoid_old(X, y, intercept, better_init, better_radius, loss, penalty, \n",
    "                                lmbda, classification, mu, n_ellipsoid_steps):\n",
    "    if intercept:\n",
    "        z_init = np.zeros(X.shape[1] + 1)\n",
    "        r_init = X.shape[1] + 1\n",
    "    else:\n",
    "        z_init = np.zeros(X.shape[1])\n",
    "        r_init = X.shape[1]\n",
    "    if better_init != 0:\n",
    "        est = fit_estimator(X, y, loss, penalty, lmbda, intercept, max_iter=better_init)\n",
    "        if classification:\n",
    "            z_init = est.coef_[0]\n",
    "            if intercept:\n",
    "                z_init = np.append(z_init, est.intercept_)\n",
    "        else:\n",
    "            z_init = est.coef_\n",
    "            if intercept:\n",
    "                z_init = np.append(z_init, est.intercept_)\n",
    "    if better_radius != 0:\n",
    "        r_init = float(better_radius)\n",
    "    \n",
    "    z, A = iterate_ellipsoids(X, y, z_init, r_init, lmbda, mu, loss, penalty, n_ellipsoid_steps, intercept)\n",
    "    return z, A"
   ]
  },
  {
   "cell_type": "markdown",
   "metadata": {},
   "source": [
    "# OBJECTIF\n",
    "\n",
    "- Tester la méthode ellipsoide en petite (Higgs), moyenne (MNIST) et grande dimension (20newsgroups) pour voir la vitesse de convergence vers la solution et le rayon de l'ellipsoide.\n",
    "- En particulier, regarder combien d'étapes sont nécessaires. \n",
    "- Comment améliorer ? Est-ce que quelques pas de SGD aident?"
   ]
  },
  {
   "cell_type": "code",
   "execution_count": 4,
   "metadata": {},
   "outputs": [
    {
     "name": "stdout",
     "output_type": "stream",
     "text": [
      "Shape of original MNIST (60000, 2304)\n"
     ]
    }
   ],
   "source": [
    "X, y = load_experiment(dataset='mnist', synth_params=None, size=100, redundant=0, noise=0, classification=True, path=path)"
   ]
  },
  {
   "cell_type": "code",
   "execution_count": 4,
   "metadata": {},
   "outputs": [
    {
     "data": {
      "text/plain": [
       "(100, 2304)"
      ]
     },
     "execution_count": 4,
     "metadata": {},
     "output_type": "execute_result"
    }
   ],
   "source": [
    "X.shape"
   ]
  },
  {
   "cell_type": "code",
   "execution_count": 5,
   "metadata": {},
   "outputs": [
    {
     "ename": "KeyboardInterrupt",
     "evalue": "",
     "output_type": "error",
     "traceback": [
      "\u001b[0;31m---------------------------------------------------------------------------\u001b[0m",
      "\u001b[0;31mKeyboardInterrupt\u001b[0m                         Traceback (most recent call last)",
      "\u001b[0;32m<ipython-input-5-5ef33d5274af>\u001b[0m in \u001b[0;36m<module>\u001b[0;34m()\u001b[0m\n\u001b[0;32m----> 1\u001b[0;31m \u001b[0msvm\u001b[0m\u001b[0;34m,\u001b[0m \u001b[0mscore\u001b[0m \u001b[0;34m=\u001b[0m \u001b[0mfind_best_svm\u001b[0m\u001b[0;34m(\u001b[0m\u001b[0mX\u001b[0m\u001b[0;34m,\u001b[0m \u001b[0my\u001b[0m\u001b[0;34m)\u001b[0m\u001b[0;34m\u001b[0m\u001b[0m\n\u001b[0m\u001b[1;32m      2\u001b[0m \u001b[0mprint\u001b[0m\u001b[0;34m(\u001b[0m\u001b[0msvm\u001b[0m\u001b[0;34m,\u001b[0m \u001b[0mscore\u001b[0m\u001b[0;34m)\u001b[0m\u001b[0;34m\u001b[0m\u001b[0m\n\u001b[1;32m      3\u001b[0m \u001b[0mprint\u001b[0m\u001b[0;34m(\u001b[0m\u001b[0msvm\u001b[0m\u001b[0;34m.\u001b[0m\u001b[0mcoef_\u001b[0m\u001b[0;34m,\u001b[0m \u001b[0mnp\u001b[0m\u001b[0;34m.\u001b[0m\u001b[0marray\u001b[0m\u001b[0;34m(\u001b[0m\u001b[0msvm\u001b[0m\u001b[0;34m.\u001b[0m\u001b[0mcoef_\u001b[0m\u001b[0;34m[\u001b[0m\u001b[0;36m0\u001b[0m\u001b[0;34m]\u001b[0m\u001b[0;34m)\u001b[0m\u001b[0;34m.\u001b[0m\u001b[0mreshape\u001b[0m\u001b[0;34m(\u001b[0m\u001b[0;36m1\u001b[0m\u001b[0;34m,\u001b[0m\u001b[0;34m-\u001b[0m\u001b[0;36m1\u001b[0m\u001b[0;34m)\u001b[0m\u001b[0;34m)\u001b[0m\u001b[0;34m\u001b[0m\u001b[0m\n",
      "\u001b[0;32m/nfs/sequoia_data1/gmialon/screening/tools.py\u001b[0m in \u001b[0;36mfind_best_svm\u001b[0;34m(X, y, no_intercept, solver)\u001b[0m\n\u001b[1;32m    134\u001b[0m         \u001b[0mprint\u001b[0m\u001b[0;34m(\u001b[0m\u001b[0;34m'ERROR, must choose between svm and sgdclassifier'\u001b[0m\u001b[0;34m)\u001b[0m\u001b[0;34m\u001b[0m\u001b[0m\n\u001b[1;32m    135\u001b[0m     \u001b[0mclf\u001b[0m \u001b[0;34m=\u001b[0m \u001b[0mGridSearchCV\u001b[0m\u001b[0;34m(\u001b[0m\u001b[0mestimator\u001b[0m \u001b[0;34m=\u001b[0m \u001b[0mestimator\u001b[0m\u001b[0;34m,\u001b[0m \u001b[0mparam_grid\u001b[0m \u001b[0;34m=\u001b[0m \u001b[0mparam_grid\u001b[0m\u001b[0;34m)\u001b[0m\u001b[0;34m\u001b[0m\u001b[0m\n\u001b[0;32m--> 136\u001b[0;31m     \u001b[0mclf\u001b[0m\u001b[0;34m.\u001b[0m\u001b[0mfit\u001b[0m\u001b[0;34m(\u001b[0m\u001b[0mX\u001b[0m\u001b[0;34m,\u001b[0m\u001b[0my\u001b[0m\u001b[0;34m)\u001b[0m\u001b[0;34m\u001b[0m\u001b[0m\n\u001b[0m\u001b[1;32m    137\u001b[0m     \u001b[0mbest_svm\u001b[0m \u001b[0;34m=\u001b[0m \u001b[0mclf\u001b[0m\u001b[0;34m.\u001b[0m\u001b[0mbest_estimator_\u001b[0m\u001b[0;34m\u001b[0m\u001b[0m\n\u001b[1;32m    138\u001b[0m     \u001b[0;32mreturn\u001b[0m \u001b[0mbest_svm\u001b[0m\u001b[0;34m,\u001b[0m \u001b[0mclf\u001b[0m\u001b[0;34m.\u001b[0m\u001b[0mbest_score_\u001b[0m\u001b[0;34m\u001b[0m\u001b[0m\n",
      "\u001b[0;32m~/anaconda3/lib/python3.6/site-packages/sklearn/model_selection/_search.py\u001b[0m in \u001b[0;36mfit\u001b[0;34m(self, X, y, groups, **fit_params)\u001b[0m\n\u001b[1;32m    637\u001b[0m                                   error_score=self.error_score)\n\u001b[1;32m    638\u001b[0m           for parameters, (train, test) in product(candidate_params,\n\u001b[0;32m--> 639\u001b[0;31m                                                    cv.split(X, y, groups)))\n\u001b[0m\u001b[1;32m    640\u001b[0m \u001b[0;34m\u001b[0m\u001b[0m\n\u001b[1;32m    641\u001b[0m         \u001b[0;31m# if one choose to see train score, \"out\" will contain train score info\u001b[0m\u001b[0;34m\u001b[0m\u001b[0;34m\u001b[0m\u001b[0m\n",
      "\u001b[0;32m~/anaconda3/lib/python3.6/site-packages/sklearn/externals/joblib/parallel.py\u001b[0m in \u001b[0;36m__call__\u001b[0;34m(self, iterable)\u001b[0m\n\u001b[1;32m    777\u001b[0m             \u001b[0;31m# was dispatched. In particular this covers the edge\u001b[0m\u001b[0;34m\u001b[0m\u001b[0;34m\u001b[0m\u001b[0m\n\u001b[1;32m    778\u001b[0m             \u001b[0;31m# case of Parallel used with an exhausted iterator.\u001b[0m\u001b[0;34m\u001b[0m\u001b[0;34m\u001b[0m\u001b[0m\n\u001b[0;32m--> 779\u001b[0;31m             \u001b[0;32mwhile\u001b[0m \u001b[0mself\u001b[0m\u001b[0;34m.\u001b[0m\u001b[0mdispatch_one_batch\u001b[0m\u001b[0;34m(\u001b[0m\u001b[0miterator\u001b[0m\u001b[0;34m)\u001b[0m\u001b[0;34m:\u001b[0m\u001b[0;34m\u001b[0m\u001b[0m\n\u001b[0m\u001b[1;32m    780\u001b[0m                 \u001b[0mself\u001b[0m\u001b[0;34m.\u001b[0m\u001b[0m_iterating\u001b[0m \u001b[0;34m=\u001b[0m \u001b[0;32mTrue\u001b[0m\u001b[0;34m\u001b[0m\u001b[0m\n\u001b[1;32m    781\u001b[0m             \u001b[0;32melse\u001b[0m\u001b[0;34m:\u001b[0m\u001b[0;34m\u001b[0m\u001b[0m\n",
      "\u001b[0;32m~/anaconda3/lib/python3.6/site-packages/sklearn/externals/joblib/parallel.py\u001b[0m in \u001b[0;36mdispatch_one_batch\u001b[0;34m(self, iterator)\u001b[0m\n\u001b[1;32m    623\u001b[0m                 \u001b[0;32mreturn\u001b[0m \u001b[0;32mFalse\u001b[0m\u001b[0;34m\u001b[0m\u001b[0m\n\u001b[1;32m    624\u001b[0m             \u001b[0;32melse\u001b[0m\u001b[0;34m:\u001b[0m\u001b[0;34m\u001b[0m\u001b[0m\n\u001b[0;32m--> 625\u001b[0;31m                 \u001b[0mself\u001b[0m\u001b[0;34m.\u001b[0m\u001b[0m_dispatch\u001b[0m\u001b[0;34m(\u001b[0m\u001b[0mtasks\u001b[0m\u001b[0;34m)\u001b[0m\u001b[0;34m\u001b[0m\u001b[0m\n\u001b[0m\u001b[1;32m    626\u001b[0m                 \u001b[0;32mreturn\u001b[0m \u001b[0;32mTrue\u001b[0m\u001b[0;34m\u001b[0m\u001b[0m\n\u001b[1;32m    627\u001b[0m \u001b[0;34m\u001b[0m\u001b[0m\n",
      "\u001b[0;32m~/anaconda3/lib/python3.6/site-packages/sklearn/externals/joblib/parallel.py\u001b[0m in \u001b[0;36m_dispatch\u001b[0;34m(self, batch)\u001b[0m\n\u001b[1;32m    586\u001b[0m         \u001b[0mdispatch_timestamp\u001b[0m \u001b[0;34m=\u001b[0m \u001b[0mtime\u001b[0m\u001b[0;34m.\u001b[0m\u001b[0mtime\u001b[0m\u001b[0;34m(\u001b[0m\u001b[0;34m)\u001b[0m\u001b[0;34m\u001b[0m\u001b[0m\n\u001b[1;32m    587\u001b[0m         \u001b[0mcb\u001b[0m \u001b[0;34m=\u001b[0m \u001b[0mBatchCompletionCallBack\u001b[0m\u001b[0;34m(\u001b[0m\u001b[0mdispatch_timestamp\u001b[0m\u001b[0;34m,\u001b[0m \u001b[0mlen\u001b[0m\u001b[0;34m(\u001b[0m\u001b[0mbatch\u001b[0m\u001b[0;34m)\u001b[0m\u001b[0;34m,\u001b[0m \u001b[0mself\u001b[0m\u001b[0;34m)\u001b[0m\u001b[0;34m\u001b[0m\u001b[0m\n\u001b[0;32m--> 588\u001b[0;31m         \u001b[0mjob\u001b[0m \u001b[0;34m=\u001b[0m \u001b[0mself\u001b[0m\u001b[0;34m.\u001b[0m\u001b[0m_backend\u001b[0m\u001b[0;34m.\u001b[0m\u001b[0mapply_async\u001b[0m\u001b[0;34m(\u001b[0m\u001b[0mbatch\u001b[0m\u001b[0;34m,\u001b[0m \u001b[0mcallback\u001b[0m\u001b[0;34m=\u001b[0m\u001b[0mcb\u001b[0m\u001b[0;34m)\u001b[0m\u001b[0;34m\u001b[0m\u001b[0m\n\u001b[0m\u001b[1;32m    589\u001b[0m         \u001b[0mself\u001b[0m\u001b[0;34m.\u001b[0m\u001b[0m_jobs\u001b[0m\u001b[0;34m.\u001b[0m\u001b[0mappend\u001b[0m\u001b[0;34m(\u001b[0m\u001b[0mjob\u001b[0m\u001b[0;34m)\u001b[0m\u001b[0;34m\u001b[0m\u001b[0m\n\u001b[1;32m    590\u001b[0m \u001b[0;34m\u001b[0m\u001b[0m\n",
      "\u001b[0;32m~/anaconda3/lib/python3.6/site-packages/sklearn/externals/joblib/_parallel_backends.py\u001b[0m in \u001b[0;36mapply_async\u001b[0;34m(self, func, callback)\u001b[0m\n\u001b[1;32m    109\u001b[0m     \u001b[0;32mdef\u001b[0m \u001b[0mapply_async\u001b[0m\u001b[0;34m(\u001b[0m\u001b[0mself\u001b[0m\u001b[0;34m,\u001b[0m \u001b[0mfunc\u001b[0m\u001b[0;34m,\u001b[0m \u001b[0mcallback\u001b[0m\u001b[0;34m=\u001b[0m\u001b[0;32mNone\u001b[0m\u001b[0;34m)\u001b[0m\u001b[0;34m:\u001b[0m\u001b[0;34m\u001b[0m\u001b[0m\n\u001b[1;32m    110\u001b[0m         \u001b[0;34m\"\"\"Schedule a func to be run\"\"\"\u001b[0m\u001b[0;34m\u001b[0m\u001b[0m\n\u001b[0;32m--> 111\u001b[0;31m         \u001b[0mresult\u001b[0m \u001b[0;34m=\u001b[0m \u001b[0mImmediateResult\u001b[0m\u001b[0;34m(\u001b[0m\u001b[0mfunc\u001b[0m\u001b[0;34m)\u001b[0m\u001b[0;34m\u001b[0m\u001b[0m\n\u001b[0m\u001b[1;32m    112\u001b[0m         \u001b[0;32mif\u001b[0m \u001b[0mcallback\u001b[0m\u001b[0;34m:\u001b[0m\u001b[0;34m\u001b[0m\u001b[0m\n\u001b[1;32m    113\u001b[0m             \u001b[0mcallback\u001b[0m\u001b[0;34m(\u001b[0m\u001b[0mresult\u001b[0m\u001b[0;34m)\u001b[0m\u001b[0;34m\u001b[0m\u001b[0m\n",
      "\u001b[0;32m~/anaconda3/lib/python3.6/site-packages/sklearn/externals/joblib/_parallel_backends.py\u001b[0m in \u001b[0;36m__init__\u001b[0;34m(self, batch)\u001b[0m\n\u001b[1;32m    330\u001b[0m         \u001b[0;31m# Don't delay the application, to avoid keeping the input\u001b[0m\u001b[0;34m\u001b[0m\u001b[0;34m\u001b[0m\u001b[0m\n\u001b[1;32m    331\u001b[0m         \u001b[0;31m# arguments in memory\u001b[0m\u001b[0;34m\u001b[0m\u001b[0;34m\u001b[0m\u001b[0m\n\u001b[0;32m--> 332\u001b[0;31m         \u001b[0mself\u001b[0m\u001b[0;34m.\u001b[0m\u001b[0mresults\u001b[0m \u001b[0;34m=\u001b[0m \u001b[0mbatch\u001b[0m\u001b[0;34m(\u001b[0m\u001b[0;34m)\u001b[0m\u001b[0;34m\u001b[0m\u001b[0m\n\u001b[0m\u001b[1;32m    333\u001b[0m \u001b[0;34m\u001b[0m\u001b[0m\n\u001b[1;32m    334\u001b[0m     \u001b[0;32mdef\u001b[0m \u001b[0mget\u001b[0m\u001b[0;34m(\u001b[0m\u001b[0mself\u001b[0m\u001b[0;34m)\u001b[0m\u001b[0;34m:\u001b[0m\u001b[0;34m\u001b[0m\u001b[0m\n",
      "\u001b[0;32m~/anaconda3/lib/python3.6/site-packages/sklearn/externals/joblib/parallel.py\u001b[0m in \u001b[0;36m__call__\u001b[0;34m(self)\u001b[0m\n\u001b[1;32m    129\u001b[0m \u001b[0;34m\u001b[0m\u001b[0m\n\u001b[1;32m    130\u001b[0m     \u001b[0;32mdef\u001b[0m \u001b[0m__call__\u001b[0m\u001b[0;34m(\u001b[0m\u001b[0mself\u001b[0m\u001b[0;34m)\u001b[0m\u001b[0;34m:\u001b[0m\u001b[0;34m\u001b[0m\u001b[0m\n\u001b[0;32m--> 131\u001b[0;31m         \u001b[0;32mreturn\u001b[0m \u001b[0;34m[\u001b[0m\u001b[0mfunc\u001b[0m\u001b[0;34m(\u001b[0m\u001b[0;34m*\u001b[0m\u001b[0margs\u001b[0m\u001b[0;34m,\u001b[0m \u001b[0;34m**\u001b[0m\u001b[0mkwargs\u001b[0m\u001b[0;34m)\u001b[0m \u001b[0;32mfor\u001b[0m \u001b[0mfunc\u001b[0m\u001b[0;34m,\u001b[0m \u001b[0margs\u001b[0m\u001b[0;34m,\u001b[0m \u001b[0mkwargs\u001b[0m \u001b[0;32min\u001b[0m \u001b[0mself\u001b[0m\u001b[0;34m.\u001b[0m\u001b[0mitems\u001b[0m\u001b[0;34m]\u001b[0m\u001b[0;34m\u001b[0m\u001b[0m\n\u001b[0m\u001b[1;32m    132\u001b[0m \u001b[0;34m\u001b[0m\u001b[0m\n\u001b[1;32m    133\u001b[0m     \u001b[0;32mdef\u001b[0m \u001b[0m__len__\u001b[0m\u001b[0;34m(\u001b[0m\u001b[0mself\u001b[0m\u001b[0;34m)\u001b[0m\u001b[0;34m:\u001b[0m\u001b[0;34m\u001b[0m\u001b[0m\n",
      "\u001b[0;32m~/anaconda3/lib/python3.6/site-packages/sklearn/externals/joblib/parallel.py\u001b[0m in \u001b[0;36m<listcomp>\u001b[0;34m(.0)\u001b[0m\n\u001b[1;32m    129\u001b[0m \u001b[0;34m\u001b[0m\u001b[0m\n\u001b[1;32m    130\u001b[0m     \u001b[0;32mdef\u001b[0m \u001b[0m__call__\u001b[0m\u001b[0;34m(\u001b[0m\u001b[0mself\u001b[0m\u001b[0;34m)\u001b[0m\u001b[0;34m:\u001b[0m\u001b[0;34m\u001b[0m\u001b[0m\n\u001b[0;32m--> 131\u001b[0;31m         \u001b[0;32mreturn\u001b[0m \u001b[0;34m[\u001b[0m\u001b[0mfunc\u001b[0m\u001b[0;34m(\u001b[0m\u001b[0;34m*\u001b[0m\u001b[0margs\u001b[0m\u001b[0;34m,\u001b[0m \u001b[0;34m**\u001b[0m\u001b[0mkwargs\u001b[0m\u001b[0;34m)\u001b[0m \u001b[0;32mfor\u001b[0m \u001b[0mfunc\u001b[0m\u001b[0;34m,\u001b[0m \u001b[0margs\u001b[0m\u001b[0;34m,\u001b[0m \u001b[0mkwargs\u001b[0m \u001b[0;32min\u001b[0m \u001b[0mself\u001b[0m\u001b[0;34m.\u001b[0m\u001b[0mitems\u001b[0m\u001b[0;34m]\u001b[0m\u001b[0;34m\u001b[0m\u001b[0m\n\u001b[0m\u001b[1;32m    132\u001b[0m \u001b[0;34m\u001b[0m\u001b[0m\n\u001b[1;32m    133\u001b[0m     \u001b[0;32mdef\u001b[0m \u001b[0m__len__\u001b[0m\u001b[0;34m(\u001b[0m\u001b[0mself\u001b[0m\u001b[0;34m)\u001b[0m\u001b[0;34m:\u001b[0m\u001b[0;34m\u001b[0m\u001b[0m\n",
      "\u001b[0;32m~/anaconda3/lib/python3.6/site-packages/sklearn/model_selection/_validation.py\u001b[0m in \u001b[0;36m_fit_and_score\u001b[0;34m(estimator, X, y, scorer, train, test, verbose, parameters, fit_params, return_train_score, return_parameters, return_n_test_samples, return_times, error_score)\u001b[0m\n\u001b[1;32m    456\u001b[0m             \u001b[0mestimator\u001b[0m\u001b[0;34m.\u001b[0m\u001b[0mfit\u001b[0m\u001b[0;34m(\u001b[0m\u001b[0mX_train\u001b[0m\u001b[0;34m,\u001b[0m \u001b[0;34m**\u001b[0m\u001b[0mfit_params\u001b[0m\u001b[0;34m)\u001b[0m\u001b[0;34m\u001b[0m\u001b[0m\n\u001b[1;32m    457\u001b[0m         \u001b[0;32melse\u001b[0m\u001b[0;34m:\u001b[0m\u001b[0;34m\u001b[0m\u001b[0m\n\u001b[0;32m--> 458\u001b[0;31m             \u001b[0mestimator\u001b[0m\u001b[0;34m.\u001b[0m\u001b[0mfit\u001b[0m\u001b[0;34m(\u001b[0m\u001b[0mX_train\u001b[0m\u001b[0;34m,\u001b[0m \u001b[0my_train\u001b[0m\u001b[0;34m,\u001b[0m \u001b[0;34m**\u001b[0m\u001b[0mfit_params\u001b[0m\u001b[0;34m)\u001b[0m\u001b[0;34m\u001b[0m\u001b[0m\n\u001b[0m\u001b[1;32m    459\u001b[0m \u001b[0;34m\u001b[0m\u001b[0m\n\u001b[1;32m    460\u001b[0m     \u001b[0;32mexcept\u001b[0m \u001b[0mException\u001b[0m \u001b[0;32mas\u001b[0m \u001b[0me\u001b[0m\u001b[0;34m:\u001b[0m\u001b[0;34m\u001b[0m\u001b[0m\n",
      "\u001b[0;32m~/anaconda3/lib/python3.6/site-packages/sklearn/svm/classes.py\u001b[0m in \u001b[0;36mfit\u001b[0;34m(self, X, y, sample_weight)\u001b[0m\n\u001b[1;32m    233\u001b[0m             \u001b[0mself\u001b[0m\u001b[0;34m.\u001b[0m\u001b[0mclass_weight\u001b[0m\u001b[0;34m,\u001b[0m \u001b[0mself\u001b[0m\u001b[0;34m.\u001b[0m\u001b[0mpenalty\u001b[0m\u001b[0;34m,\u001b[0m \u001b[0mself\u001b[0m\u001b[0;34m.\u001b[0m\u001b[0mdual\u001b[0m\u001b[0;34m,\u001b[0m \u001b[0mself\u001b[0m\u001b[0;34m.\u001b[0m\u001b[0mverbose\u001b[0m\u001b[0;34m,\u001b[0m\u001b[0;34m\u001b[0m\u001b[0m\n\u001b[1;32m    234\u001b[0m             \u001b[0mself\u001b[0m\u001b[0;34m.\u001b[0m\u001b[0mmax_iter\u001b[0m\u001b[0;34m,\u001b[0m \u001b[0mself\u001b[0m\u001b[0;34m.\u001b[0m\u001b[0mtol\u001b[0m\u001b[0;34m,\u001b[0m \u001b[0mself\u001b[0m\u001b[0;34m.\u001b[0m\u001b[0mrandom_state\u001b[0m\u001b[0;34m,\u001b[0m \u001b[0mself\u001b[0m\u001b[0;34m.\u001b[0m\u001b[0mmulti_class\u001b[0m\u001b[0;34m,\u001b[0m\u001b[0;34m\u001b[0m\u001b[0m\n\u001b[0;32m--> 235\u001b[0;31m             self.loss, sample_weight=sample_weight)\n\u001b[0m\u001b[1;32m    236\u001b[0m \u001b[0;34m\u001b[0m\u001b[0m\n\u001b[1;32m    237\u001b[0m         \u001b[0;32mif\u001b[0m \u001b[0mself\u001b[0m\u001b[0;34m.\u001b[0m\u001b[0mmulti_class\u001b[0m \u001b[0;34m==\u001b[0m \u001b[0;34m\"crammer_singer\"\u001b[0m \u001b[0;32mand\u001b[0m \u001b[0mlen\u001b[0m\u001b[0;34m(\u001b[0m\u001b[0mself\u001b[0m\u001b[0;34m.\u001b[0m\u001b[0mclasses_\u001b[0m\u001b[0;34m)\u001b[0m \u001b[0;34m==\u001b[0m \u001b[0;36m2\u001b[0m\u001b[0;34m:\u001b[0m\u001b[0;34m\u001b[0m\u001b[0m\n",
      "\u001b[0;32m~/anaconda3/lib/python3.6/site-packages/sklearn/svm/base.py\u001b[0m in \u001b[0;36m_fit_liblinear\u001b[0;34m(X, y, C, fit_intercept, intercept_scaling, class_weight, penalty, dual, verbose, max_iter, tol, random_state, multi_class, loss, epsilon, sample_weight)\u001b[0m\n\u001b[1;32m    888\u001b[0m         \u001b[0mX\u001b[0m\u001b[0;34m,\u001b[0m \u001b[0my_ind\u001b[0m\u001b[0;34m,\u001b[0m \u001b[0msp\u001b[0m\u001b[0;34m.\u001b[0m\u001b[0misspmatrix\u001b[0m\u001b[0;34m(\u001b[0m\u001b[0mX\u001b[0m\u001b[0;34m)\u001b[0m\u001b[0;34m,\u001b[0m \u001b[0msolver_type\u001b[0m\u001b[0;34m,\u001b[0m \u001b[0mtol\u001b[0m\u001b[0;34m,\u001b[0m \u001b[0mbias\u001b[0m\u001b[0;34m,\u001b[0m \u001b[0mC\u001b[0m\u001b[0;34m,\u001b[0m\u001b[0;34m\u001b[0m\u001b[0m\n\u001b[1;32m    889\u001b[0m         \u001b[0mclass_weight_\u001b[0m\u001b[0;34m,\u001b[0m \u001b[0mmax_iter\u001b[0m\u001b[0;34m,\u001b[0m \u001b[0mrnd\u001b[0m\u001b[0;34m.\u001b[0m\u001b[0mrandint\u001b[0m\u001b[0;34m(\u001b[0m\u001b[0mnp\u001b[0m\u001b[0;34m.\u001b[0m\u001b[0miinfo\u001b[0m\u001b[0;34m(\u001b[0m\u001b[0;34m'i'\u001b[0m\u001b[0;34m)\u001b[0m\u001b[0;34m.\u001b[0m\u001b[0mmax\u001b[0m\u001b[0;34m)\u001b[0m\u001b[0;34m,\u001b[0m\u001b[0;34m\u001b[0m\u001b[0m\n\u001b[0;32m--> 890\u001b[0;31m         epsilon, sample_weight)\n\u001b[0m\u001b[1;32m    891\u001b[0m     \u001b[0;31m# Regarding rnd.randint(..) in the above signature:\u001b[0m\u001b[0;34m\u001b[0m\u001b[0;34m\u001b[0m\u001b[0m\n\u001b[1;32m    892\u001b[0m     \u001b[0;31m# seed for srand in range [0..INT_MAX); due to limitations in Numpy\u001b[0m\u001b[0;34m\u001b[0m\u001b[0;34m\u001b[0m\u001b[0m\n",
      "\u001b[0;31mKeyboardInterrupt\u001b[0m: "
     ]
    }
   ],
   "source": [
    "svm, score = find_best_svm(X, y)\n",
    "print(svm, score)\n",
    "print(svm.coef_, np.array(svm.coef_[0]).reshape(1,-1))"
   ]
  },
  {
   "cell_type": "code",
   "execution_count": null,
   "metadata": {
    "collapsed": true
   },
   "outputs": [],
   "source": [
    "svm_sgd = SGDClassifier()\n",
    "svm_sgd.fit(X,y)\n",
    "print(svm_sgd.coef_)"
   ]
  },
  {
   "cell_type": "code",
   "execution_count": 41,
   "metadata": {},
   "outputs": [
    {
     "name": "stdout",
     "output_type": "stream",
     "text": [
      "[[-0.02213154  0.00208679  0.         ...,  0.         -0.01719506  0.        ]] 0.0\n",
      "NO GO-BELOW ZONE FOR THE RADIUS 1.28825700512\n",
      "RADIUS 10094\n",
      "4097\n"
     ]
    }
   ],
   "source": [
    "print(svm.coef_, svm.intercept_)\n",
    "if svm.intercept_ == 0:\n",
    "    ground_truth = svm.coef_[0]\n",
    "else:\n",
    "    ground_truth = np.concatenate((svm.coef_, svm.intercept_), axis=None)\n",
    "print('NO GO-BELOW ZONE FOR THE RADIUS', np.linalg.norm(ground_truth)) # check that it is inside the initial ball\n",
    "print('RADIUS', X.shape[1])\n",
    "print(len(np.nonzero(ground_truth)[0]))"
   ]
  },
  {
   "cell_type": "code",
   "execution_count": 38,
   "metadata": {},
   "outputs": [
    {
     "name": "stdout",
     "output_type": "stream",
     "text": [
      "Time to compute z, A and g: 0.004828453063964844\n"
     ]
    },
    {
     "ename": "ValueError",
     "evalue": "too many values to unpack (expected 5)",
     "output_type": "error",
     "traceback": [
      "\u001b[0;31m---------------------------------------\u001b[0m",
      "\u001b[0;31mValueError\u001b[0mTraceback (most recent call last)",
      "\u001b[0;32m<ipython-input-38-812f0aa9cffa>\u001b[0m in \u001b[0;36m<module>\u001b[0;34m()\u001b[0m\n\u001b[1;32m      1\u001b[0m \u001b[0;32mfor\u001b[0m \u001b[0mn_ellipsoid_steps\u001b[0m \u001b[0;32min\u001b[0m \u001b[0;34m[\u001b[0m\u001b[0;36m10\u001b[0m\u001b[0;34m,\u001b[0m \u001b[0;36m100\u001b[0m\u001b[0;34m,\u001b[0m \u001b[0;36m1000\u001b[0m\u001b[0;34m,\u001b[0m \u001b[0;36m10000\u001b[0m\u001b[0;34m]\u001b[0m\u001b[0;34m:\u001b[0m\u001b[0;34m\u001b[0m\u001b[0m\n\u001b[1;32m      2\u001b[0m     z, scaling, L, I_k_vec, _ = experiment_get_ellipsoid(X, y, intercept=True, better_init=0, better_radius=X.shape[1], \n\u001b[0;32m----> 3\u001b[0;31m                                                          loss='hinge', penalty='l2', lmbda=1/100, classification=True, mu=1, n_ellipsoid_steps=n_ellipsoid_steps)\n\u001b[0m\u001b[1;32m      4\u001b[0m     \u001b[0;31m#print('L2 DISTANCE BETWEEN GROUND TRUTH AND ELLIPSOID OUTPUT', np.linalg.norm(z - ground_truth) / np.linalg.norm(ground_truth))\u001b[0m\u001b[0;34m\u001b[0m\u001b[0;34m\u001b[0m\u001b[0m\n\u001b[1;32m      5\u001b[0m     \u001b[0;31m#print('GROUND TRUTH', ground_truth, 'ELLIPSOID OUTPUT', z)\u001b[0m\u001b[0;34m\u001b[0m\u001b[0;34m\u001b[0m\u001b[0m\n",
      "\u001b[0;31mValueError\u001b[0m: too many values to unpack (expected 5)"
     ]
    }
   ],
   "source": [
    "for n_ellipsoid_steps in [10, 100, 1000, 10000]:\n",
    "    z, scaling, L, I_k_vec, _ = experiment_get_ellipsoid(X, y, intercept=True, better_init=0, better_radius=X.shape[1], \n",
    "                                                         loss='hinge', penalty='l2', lmbda=1/100, classification=True, mu=1, n_ellipsoid_steps=n_ellipsoid_steps)\n",
    "    #print('L2 DISTANCE BETWEEN GROUND TRUTH AND ELLIPSOID OUTPUT', np.linalg.norm(z - ground_truth) / np.linalg.norm(ground_truth))\n",
    "    #print('GROUND TRUTH', ground_truth, 'ELLIPSOID OUTPUT', z)\n",
    "    M = L.dot(np.dot(np.diag(I_k_vec), L.T))\n",
    "    A = scaling * np.identity(X.shape[1]+1) - M\n",
    "    radius = np.linalg.eig(A)[0]\n",
    "    #radius = np.max(radius)\n",
    "    print('RADIUS', np.sort(radius))\n",
    "    print('SCALING', scaling)\n",
    "    #print('I_k_vec', I_k_vec)\n",
    "    radius_ = np.linalg.eig(M)[0]\n",
    "    print('RADIUS_', np.sort(radius_))\n",
    "    #volume = compute_ellipsoid_volume(radius)\n",
    "    #print('VOLUME', volume)"
   ]
  },
  {
   "cell_type": "markdown",
   "metadata": {},
   "source": [
    "# CLIPPING DE L'ELLIPSOIDE"
   ]
  },
  {
   "cell_type": "code",
   "execution_count": 49,
   "metadata": {},
   "outputs": [
    {
     "data": {
      "text/plain": [
       "array([1, 2, 5, 5])"
      ]
     },
     "execution_count": 49,
     "metadata": {},
     "output_type": "execute_result"
    }
   ],
   "source": [
    "a = np.array([1,2,5,7])\n",
    "np.clip(a,0,5)"
   ]
  },
  {
   "cell_type": "markdown",
   "metadata": {},
   "source": [
    "# Safe Logistic"
   ]
  },
  {
   "cell_type": "code",
   "execution_count": 5,
   "metadata": {},
   "outputs": [
    {
     "name": "stdout",
     "output_type": "stream",
     "text": [
      "[ 1.12239618  1.04578339  1.65307495 ...,  0.2721837   0.80306286\n",
      "  0.75354699]\n",
      "0.9\n"
     ]
    }
   ],
   "source": [
    "X_train, X_test, y_train, y_test = train_test_split(X, y, test_size=0.2)\n",
    "safelog = SafeLogistic(mu=0, lmbda=0.0, max_iter=10000)\n",
    "safelog.fit(X_train, y_train)\n",
    "ground_truth = safelog.coef_[0]\n",
    "print(ground_truth)\n",
    "print(scoring_classif(safelog, X_test, y_test))"
   ]
  },
  {
   "cell_type": "code",
   "execution_count": 6,
   "metadata": {
    "collapsed": true
   },
   "outputs": [],
   "source": [
    "mu=0\n",
    "lmbda = 0.0\n",
    "intercept=False \n",
    "classification=True\n",
    "loss='safe_logistic'\n",
    "penalty='l2'\n",
    "cut=True\n",
    "better_init=10\n",
    "better_radius=10 #X.shape[1]"
   ]
  },
  {
   "cell_type": "code",
   "execution_count": 7,
   "metadata": {},
   "outputs": [
    {
     "name": "stdout",
     "output_type": "stream",
     "text": [
      "Time to compute z, A and g: 0.0020401477813720703\n",
      "L2 DISTANCE BETWEEN GROUND TRUTH AND ELLIPSOID OUTPUT 0.603403975718\n",
      "Time to rank the entire dataset: 0.014620780944824219\n",
      "RANKING [ -4.54185901e-01  -3.38939730e-01   2.69609573e-01  -1.23495394e-01\n",
      "   2.26549916e+00  -3.42501453e-01   1.85453068e+00  -7.06207936e-02\n",
      "   1.75835383e+00  -1.93800484e-01   1.38394695e+00  -5.05616130e-01\n",
      "  -2.13222892e-01   3.25237495e-01   1.55315930e+00   1.57705610e+00\n",
      "  -8.82440601e-01   1.05410761e+00   1.14735270e+00   2.09864894e+00\n",
      "   6.33057310e-01   7.15459996e-02   2.26173274e+00  -4.57271040e-02\n",
      "  -1.63068900e+00  -9.81122915e-01   2.28316965e+00  -1.79580240e-01\n",
      "  -8.07068946e-01   1.25159918e+00   7.84508426e-01  -4.16965495e-01\n",
      "   6.52249844e-01   2.70792314e+00   5.82398228e-01  -5.01220088e-01\n",
      "   3.38333532e-01  -4.03962610e-01  -7.13702383e-01   1.00595310e+00\n",
      "   7.03819828e-01   1.36674359e+00   1.41592282e+00   1.47134852e+00\n",
      "   1.65527095e+00   2.07036279e+00   2.02113214e+00  -6.84736236e-01\n",
      "   2.85282706e+00   1.46614220e-01   3.97767820e-01  -4.55204125e-01\n",
      "   1.07455288e+00   1.40827473e+00   2.50849812e+00   1.39393179e+00\n",
      "   7.20565126e-01   1.79030529e+00   8.06251081e-01  -3.78425230e-01\n",
      "   7.13934450e-01   5.06774069e-01   1.07498229e+00  -1.16026813e+00\n",
      "   6.28938403e-01  -1.17936324e-01  -1.61911241e-01   6.88395101e-01\n",
      "   1.87026692e+00   5.26387377e-01  -1.17983292e+00   1.51809319e+00\n",
      "   1.10960765e+00   3.53008326e-01   9.88006710e-01  -2.11074927e-01\n",
      "  -4.20240400e-01  -2.29909459e-03  -1.29449693e+00   1.16188774e+00\n",
      "   3.33489323e+00   6.29693579e-01  -7.68311463e-01   3.00790327e-01\n",
      "   4.68971081e-01   1.27565431e+00   1.49067047e+00   1.89363561e+00\n",
      "   1.25623601e+00   8.95618276e-01   1.10658512e+00   4.96343979e-01\n",
      "   8.81852876e-01   5.72833989e-01   1.79315133e+00   5.34836338e-02\n",
      "   1.00847628e+00   1.19320706e+00   1.12513991e+00  -3.72937369e-03] [24 78 70 63 25 16 28 82 38 47 11 35 51  0 76 31 37 59  5  1 12 75  9 27 66\n",
      "  3 65  7 23 99 77 95 21 49  2 83 13 36 73 50 84 91 61 69 93 34 64 81 20 32\n",
      " 67 40 60 56 30 58 92 89 74 39 96 17 52 62 90 72 98 18 79 97 29 88 85 41 10\n",
      " 55 53 42 43 86 71 14 15 44  8 57 94  6 68 87 46 45 19 22  4 26 54 33 48 80]\n",
      "Time to compute z, A and g: 0.01059269905090332\n",
      "L2 DISTANCE BETWEEN GROUND TRUTH AND ELLIPSOID OUTPUT 0.485445301706\n",
      "Time to rank the entire dataset: 0.023918628692626953\n",
      "RANKING [-1.30295152 -1.02563232  0.47860328 -1.49361907  1.64728446 -0.64562983\n",
      "  1.98462024 -0.11930996  1.58703431 -1.01540568  1.72843415 -1.05814445\n",
      " -0.54520244 -0.47826952  1.35001664  1.65367496 -1.59199286  0.62536064\n",
      "  0.62066213  1.72182471  1.117406   -0.01312622  2.16030538 -1.40714912\n",
      " -2.33353801 -1.93372398  2.41954205 -0.43948397 -1.59424587  1.23020635\n",
      "  0.95026361 -1.17061153 -0.1010822   2.24734982  0.50536125 -1.03741802\n",
      " -0.19937002 -0.93725671 -1.04075315  0.73064881  0.0302814   1.10834955\n",
      "  1.22552012  0.94744288  1.82898151  1.45966392  2.12744992 -1.23334899\n",
      "  2.38839155 -0.29900937  0.35699537 -0.7892052   1.2009328   1.04180489\n",
      "  2.01249833  1.07016549  0.80336235  1.09422208  1.58270261 -1.78921677\n",
      "  1.06432194 -0.4629402   0.89053046 -1.95644977  0.30546435 -0.4433278\n",
      " -1.01176668 -0.0179424   2.14368252  0.36624626 -2.20386693  1.59868674\n",
      "  0.53363056 -0.34612986  1.1918984  -0.65556056 -1.27778765 -1.34970482\n",
      " -2.09523222  1.08805887  2.99740953  0.61124348 -1.25400865 -0.48830467\n",
      "  0.12427545  0.81839514  1.82540183  1.04689418  1.40125265  0.82905026\n",
      "  0.82255876  0.65820191  1.20962773 -0.03967631  1.9092219  -0.25024806\n",
      "  0.55407423  0.78506711  1.33913778 -1.09419805] [24 70 78 63 25 59 28 16  3 23 77  0 76 82 47 31 99 11 38 35  1  9 66 37 51\n",
      " 75  5 12 83 13 61 65 27 73 49 95 36  7 32 93 67 21 40 84 64 50 69  2 34 72\n",
      " 96 81 18 17 91 39 97 56 85 90 89 62 43 30 53 87 60 55 79 57 41 20 74 52 92\n",
      " 42 29 98 14 88 45 58  8 71  4 15 19 10 86 44 94  6 54 46 68 22 33 48 26 80]\n",
      "Time to compute z, A and g: 0.1436171531677246\n",
      "L2 DISTANCE BETWEEN GROUND TRUTH AND ELLIPSOID OUTPUT 0.594962694402\n",
      "Time to rank the entire dataset: 0.02848076820373535\n",
      "RANKING [-0.71093095 -0.02022965  1.00494845  0.81868714  2.36069917 -0.06983891\n",
      "  2.22561052  0.04552538  2.03331189  0.86447171  1.82133247 -0.99539762\n",
      "  0.23294017  0.99206332  1.84366246  2.04901129 -0.90644343  1.55546418\n",
      "  1.9804427   2.17160478  1.16177533  0.37639692  2.15319618  0.87737301\n",
      " -1.29924499 -0.91131739  3.39582534 -0.18258017 -0.48851552  1.54190067\n",
      "  1.28308662 -0.22261615  1.33445822  2.60562092  1.38733818 -0.69458317\n",
      "  1.11654905  0.16148928 -0.68452807  1.9020056   1.29050198  2.15453794\n",
      "  1.95814625  1.32982168  2.43799364  2.03752076  2.82841893 -0.99502986\n",
      "  2.79584292  0.2204805   0.86542533 -0.16831127  1.81520352  2.14072628\n",
      "  2.51193914  1.95019973  1.24326337  1.76044833  1.5318526   0.69516133\n",
      "  1.20795482  1.30426444  1.81331236 -0.80490243  1.80239037 -0.68911094\n",
      "  0.52256831  1.60885316  2.36798837  1.22488634 -0.5748152   1.78619774\n",
      "  1.66365269  1.2453595   1.54771476  0.35873944  0.11443677  0.92752995\n",
      " -0.36150046  1.48367912  3.38792775  1.29257117 -0.65748069  1.17248861\n",
      "  1.17482608  1.85463122  2.09776245  1.93383285  1.90165759  1.69857471\n",
      "  1.59676492  0.68081098  1.65575278  1.42511455  2.50701784  0.7106941\n",
      "  1.67345325  1.84523265  1.81119088  1.00023899] [24 11 47 25 16 63  0 35 65 38 82 70 28 78 31 27 51  5  1  7 76 37 49 12 75\n",
      " 21 66 91 59 95  3  9 50 23 77 13 99  2 36 20 83 84 60 69 56 73 30 40 81 61\n",
      " 43 32 34 93 79 58 29 74 17 90 67 92 72 96 89 57 71 64 98 62 52 10 14 97 85\n",
      " 88 39 87 55 42 18  8 45 15 86 53 22 41 19  6  4 68 44 94 54 33 48 46 80 26]\n",
      "Time to compute z, A and g: 7.574487924575806\n",
      "L2 DISTANCE BETWEEN GROUND TRUTH AND ELLIPSOID OUTPUT 0.650341787842\n",
      "Time to rank the entire dataset: 0.06664347648620605\n",
      "RANKING [ 0.02179695 -0.17259937  0.95616684  0.19440443  2.82516649  0.32224204\n",
      "  2.26710057  0.3530218   2.22983315  0.84364685  1.98762182 -1.11921063\n",
      "  0.49498385  0.26727038  2.09457829  2.33260481 -0.30230413  1.84392797\n",
      "  1.35836694  2.11569192  1.38598806  0.21003011  2.50673506  0.4068664\n",
      " -1.01638328 -0.86131442  3.19047839  0.25598418 -0.26576293  1.99450439\n",
      "  1.49828025  0.00946138  0.62071044  2.42149908  0.93100892 -0.77050218\n",
      "  0.06702106 -0.12720194 -0.07233397  1.16582795  1.28992599  2.31302842\n",
      "  2.33720214  1.5277924   2.62319782  2.33994946  3.03690371 -1.01328827\n",
      "  2.90801882  0.4633549   1.09186998 -0.23832478  1.98600569  2.10997278\n",
      "  2.85420738  2.0762807   0.82193327  1.93067878  1.40349057  0.01204116\n",
      "  0.75670475  1.12125085  0.95543246 -0.80259225  1.2522419  -0.69485017\n",
      " -0.3775967   1.66918864  2.03295268  0.92028888 -0.45965193  2.31327177\n",
      "  2.02308781  0.59809192  1.89233859  0.22176274 -0.07656894  0.38082449\n",
      " -0.38658836  2.04448473  3.7386802   0.94115775 -0.20764125  0.50508166\n",
      "  1.45750799  2.10878145  2.34316822  2.17466025  1.59561459  1.45955688\n",
      "  0.61331851  1.47073831  1.67312309  0.73840527  2.68642351  0.24716932\n",
      "  1.89149729  2.1050186   2.03669885  1.14065469] [11 24 47 25 63 35 65 70 78 66 16 28 51 82  1 37 76 38 31 59  0 36  3 21 75\n",
      " 95 27 13  5  7 77 23 49 12 83 73 90 32 93 60 56  9 69 34 81 62  2 50 61 99\n",
      " 39 64 40 18 20 58 84 89 91 30 43 88 67 92 17 96 74 57 52 10 29 72 68 98 79\n",
      " 55 14 97 85 53 19 87  8  6 41 71 15 42 45 86 33 22 44 94  4 54 48 46 26 80]\n",
      "Time to compute z, A and g: 728.311915397644\n",
      "L2 DISTANCE BETWEEN GROUND TRUTH AND ELLIPSOID OUTPUT 0.663374016816\n",
      "Time to rank the entire dataset: 5.000211715698242\n",
      "RANKING [ 0.11873228 -0.15987167  0.65863434  0.38735357  2.11705347  0.06679296\n",
      "  1.73680378  0.10970534  1.7530013   0.48798516  1.13409276  0.60415062\n",
      " -0.16442799  0.75117877  1.62196613  1.42382629 -0.52508014  1.27054678\n",
      "  1.48232876  1.90351052  0.71937617  0.194565    1.90606423  0.43134198\n",
      " -0.93891855 -0.70517967  2.27764449 -0.13438296 -0.90409557  1.34936223\n",
      "  0.67741577  0.09905449  0.99042637  2.32545777  0.48798146  0.50466382\n",
      "  0.38990438 -0.22645485 -0.40639383  1.15192491  0.90677617  1.46005779\n",
      "  1.54812758  1.45760049  1.46795735  1.94640831  1.97069568  0.21540608\n",
      "  2.68998252  0.39477403  0.63170375 -0.45077392  0.82405857  1.55602833\n",
      "  2.2656094   1.40271285  0.39690189  1.71233154  0.88149291  0.26317283\n",
      "  0.5695748   1.01372041  1.01550805 -0.79482987  0.91576469  0.77681757\n",
      "  0.23617193  0.89945212  1.58189995  0.38157733 -0.57101624  1.42892025\n",
      "  1.28385705  0.77894915  0.84786826 -0.07077135 -0.32657188  0.44836205\n",
      " -0.64211878  1.18710159  2.88733029  0.50772196 -0.72298794  0.71201627\n",
      "  0.57287792  1.40382761  1.13023163  1.79680223  1.05304849  1.10987488\n",
      "  1.24939896  0.53611898  1.18745467  0.85712489  1.75776503 -0.03820863\n",
      "  1.05220217  1.30992409  1.13859558  0.51483348] [24 28 63 82 25 78 70 16 51 38 76 37 12  1 27 75 95  5 31  7  0 21 47 66 59\n",
      " 69  3 36 49 56 23 77 34  9 35 81 99 91 60 84 11 50  2 30 83 20 13 65 73 52\n",
      " 74 93 58 67 40 64 32 61 62 96 88 89 86 10 98 39 79 92 90 17 72 97 29 55 85\n",
      " 15 71 43 41 44 18 42 53 68 14 57  6  8 94 87 19 22 45 46  4 54 26 33 48 80]\n"
     ]
    }
   ],
   "source": [
    "for n_ellipsoid_steps in [1, 10, 100, 1000, 10000]: #, 100]: #, 1000]: #, 100000]:\n",
    "    z, scaling, L, I_k_vec, g , _= experiment_get_ellipsoid(X, y, intercept=intercept, better_init=better_init, better_radius=better_radius, \n",
    "                                                         loss=loss, penalty=penalty, lmbda=lmbda, \n",
    "                                                         classification=classification, mu=mu, \n",
    "                                                         n_ellipsoid_steps=n_ellipsoid_steps)\n",
    "    #z_old, A_old = experiment_get_ellipsoid_old(X, y, intercept=intercept, better_init=better_init, better_radius=better_radius, \n",
    "                                                         #loss=loss, penalty=penalty, lmbda=lmbda, \n",
    "                                                         #classification=classification, mu=mu, \n",
    "                                                         #n_ellipsoid_steps=n_ellipsoid_steps)\n",
    "    print('L2 DISTANCE BETWEEN GROUND TRUTH AND ELLIPSOID OUTPUT', np.linalg.norm(z - ground_truth) / np.linalg.norm(ground_truth))\n",
    "    #print('L2 ... WITH OLD METHOD', np.linalg.norm(z_old - ground_truth) / np.linalg.norm(ground_truth))\n",
    "    #print('GROUND TRUTH', ground_truth, 'ELLIPSOID OUTPUT', z)\n",
    "    \n",
    "    ranking = rank_dataset_accelerated(X, y, z, scaling, L, I_k_vec, g, lmbda, mu, classification, \n",
    "    loss, penalty, intercept, cut)\n",
    "    print('RANKING', ranking, np.argsort(ranking))\n",
    "    M = L.dot(np.dot(np.diag(I_k_vec), L.T))\n",
    "    A = scaling * np.identity(X.shape[1]) - M\n",
    "    radius, _ = np.linalg.eigh(A)\n",
    "    #print(radius)\n",
    "    #print(A)\n",
    "    #radius = np.linalg.eig(A)[0]\n",
    "    #print(radius)\n",
    "    #radius = np.max(radius)\n",
    "    #print('RADIUS', np.sort(radius))\n",
    "    #print('SCALING', scaling)\n",
    "    #print('I_k_vec', I_k_vec)\n",
    "    #radius_ = np.linalg.eig(M)[0]\n",
    "    #print('RADIUS_', np.sort(radius_))\n",
    "    #volume = compute_ellipsoid_volume(radius)\n",
    "    #print('VOLUME', volume)"
   ]
  },
  {
   "cell_type": "markdown",
   "metadata": {
    "collapsed": true
   },
   "source": [
    "# Lasso "
   ]
  },
  {
   "cell_type": "code",
   "execution_count": 46,
   "metadata": {},
   "outputs": [
    {
     "name": "stdout",
     "output_type": "stream",
     "text": [
      "[-0.  0.  0. ...,  0.  0.  0.]\n"
     ]
    }
   ],
   "source": [
    "lasso, score = find_best_lasso(X,y)\n",
    "#print(lasso)\n",
    "ground_truth = lasso.coef_\n",
    "print(ground_truth)\n",
    "lmbda=lasso.get_params()['alpha']\n",
    "mu=0.1\n",
    "intercept=False # check that the best Lasso does not use an intercept.\n",
    "classification=False\n",
    "loss='truncated_squared'\n",
    "penalty='l1'\n",
    "cut=False\n",
    "better_init=0\n",
    "better_radius=10"
   ]
  },
  {
   "cell_type": "code",
   "execution_count": 49,
   "metadata": {
    "scrolled": false
   },
   "outputs": [
    {
     "name": "stdout",
     "output_type": "stream",
     "text": [
      "Time to compute z, A and g: 0.026360511779785156\n",
      "L2 DISTANCE BETWEEN GROUND TRUTH AND ELLIPSOID OUTPUT 1.00000622587\n",
      "L2 ... WITH OLD METHOD 1.00000623114\n",
      "Time to rank the entire dataset: 0.018772363662719727\n",
      "Time to compute z, A and g: 0.1354508399963379\n",
      "L2 DISTANCE BETWEEN GROUND TRUTH AND ELLIPSOID OUTPUT 1.00006544769\n",
      "L2 ... WITH OLD METHOD 1.00006545163\n",
      "Time to rank the entire dataset: 0.0388791561126709\n",
      "Time to compute z, A and g: 1.2118866443634033\n"
     ]
    },
    {
     "ename": "KeyboardInterrupt",
     "evalue": "",
     "output_type": "error",
     "traceback": [
      "\u001b[0;31m---------------------------------------------------------------------------\u001b[0m",
      "\u001b[0;31mKeyboardInterrupt\u001b[0m                         Traceback (most recent call last)",
      "\u001b[0;32m<ipython-input-49-80b9c2f1bdc0>\u001b[0m in \u001b[0;36m<module>\u001b[0;34m()\u001b[0m\n\u001b[1;32m      7\u001b[0m                                                          \u001b[0mloss\u001b[0m\u001b[0;34m=\u001b[0m\u001b[0mloss\u001b[0m\u001b[0;34m,\u001b[0m \u001b[0mpenalty\u001b[0m\u001b[0;34m=\u001b[0m\u001b[0mpenalty\u001b[0m\u001b[0;34m,\u001b[0m \u001b[0mlmbda\u001b[0m\u001b[0;34m=\u001b[0m\u001b[0mlmbda\u001b[0m\u001b[0;34m,\u001b[0m\u001b[0;34m\u001b[0m\u001b[0m\n\u001b[1;32m      8\u001b[0m                                                          \u001b[0mclassification\u001b[0m\u001b[0;34m=\u001b[0m\u001b[0mclassification\u001b[0m\u001b[0;34m,\u001b[0m \u001b[0mmu\u001b[0m\u001b[0;34m=\u001b[0m\u001b[0mmu\u001b[0m\u001b[0;34m,\u001b[0m\u001b[0;34m\u001b[0m\u001b[0m\n\u001b[0;32m----> 9\u001b[0;31m                                                          n_ellipsoid_steps=n_ellipsoid_steps)\n\u001b[0m\u001b[1;32m     10\u001b[0m     \u001b[0mprint\u001b[0m\u001b[0;34m(\u001b[0m\u001b[0;34m'L2 DISTANCE BETWEEN GROUND TRUTH AND ELLIPSOID OUTPUT'\u001b[0m\u001b[0;34m,\u001b[0m \u001b[0mnp\u001b[0m\u001b[0;34m.\u001b[0m\u001b[0mlinalg\u001b[0m\u001b[0;34m.\u001b[0m\u001b[0mnorm\u001b[0m\u001b[0;34m(\u001b[0m\u001b[0mz\u001b[0m \u001b[0;34m-\u001b[0m \u001b[0mground_truth\u001b[0m\u001b[0;34m)\u001b[0m \u001b[0;34m/\u001b[0m \u001b[0mnp\u001b[0m\u001b[0;34m.\u001b[0m\u001b[0mlinalg\u001b[0m\u001b[0;34m.\u001b[0m\u001b[0mnorm\u001b[0m\u001b[0;34m(\u001b[0m\u001b[0mground_truth\u001b[0m\u001b[0;34m)\u001b[0m\u001b[0;34m)\u001b[0m\u001b[0;34m\u001b[0m\u001b[0m\n\u001b[1;32m     11\u001b[0m     \u001b[0mprint\u001b[0m\u001b[0;34m(\u001b[0m\u001b[0;34m'L2 ... WITH OLD METHOD'\u001b[0m\u001b[0;34m,\u001b[0m \u001b[0mnp\u001b[0m\u001b[0;34m.\u001b[0m\u001b[0mlinalg\u001b[0m\u001b[0;34m.\u001b[0m\u001b[0mnorm\u001b[0m\u001b[0;34m(\u001b[0m\u001b[0mz_old\u001b[0m \u001b[0;34m-\u001b[0m \u001b[0mground_truth\u001b[0m\u001b[0;34m)\u001b[0m \u001b[0;34m/\u001b[0m \u001b[0mnp\u001b[0m\u001b[0;34m.\u001b[0m\u001b[0mlinalg\u001b[0m\u001b[0;34m.\u001b[0m\u001b[0mnorm\u001b[0m\u001b[0;34m(\u001b[0m\u001b[0mground_truth\u001b[0m\u001b[0;34m)\u001b[0m\u001b[0;34m)\u001b[0m\u001b[0;34m\u001b[0m\u001b[0m\n",
      "\u001b[0;32m<ipython-input-2-c51503580554>\u001b[0m in \u001b[0;36mexperiment_get_ellipsoid_old\u001b[0;34m(X, y, intercept, better_init, better_radius, loss, penalty, lmbda, classification, mu, n_ellipsoid_steps)\u001b[0m\n\u001b[1;32m     40\u001b[0m         \u001b[0mr_init\u001b[0m \u001b[0;34m=\u001b[0m \u001b[0mfloat\u001b[0m\u001b[0;34m(\u001b[0m\u001b[0mbetter_radius\u001b[0m\u001b[0;34m)\u001b[0m\u001b[0;34m\u001b[0m\u001b[0m\n\u001b[1;32m     41\u001b[0m \u001b[0;34m\u001b[0m\u001b[0m\n\u001b[0;32m---> 42\u001b[0;31m     \u001b[0mz\u001b[0m\u001b[0;34m,\u001b[0m \u001b[0mA\u001b[0m \u001b[0;34m=\u001b[0m \u001b[0miterate_ellipsoids\u001b[0m\u001b[0;34m(\u001b[0m\u001b[0mX\u001b[0m\u001b[0;34m,\u001b[0m \u001b[0my\u001b[0m\u001b[0;34m,\u001b[0m \u001b[0mz_init\u001b[0m\u001b[0;34m,\u001b[0m \u001b[0mr_init\u001b[0m\u001b[0;34m,\u001b[0m \u001b[0mlmbda\u001b[0m\u001b[0;34m,\u001b[0m \u001b[0mmu\u001b[0m\u001b[0;34m,\u001b[0m \u001b[0mloss\u001b[0m\u001b[0;34m,\u001b[0m \u001b[0mpenalty\u001b[0m\u001b[0;34m,\u001b[0m \u001b[0mn_ellipsoid_steps\u001b[0m\u001b[0;34m,\u001b[0m \u001b[0mintercept\u001b[0m\u001b[0;34m)\u001b[0m\u001b[0;34m\u001b[0m\u001b[0m\n\u001b[0m\u001b[1;32m     43\u001b[0m     \u001b[0;32mreturn\u001b[0m \u001b[0mz\u001b[0m\u001b[0;34m,\u001b[0m \u001b[0mA\u001b[0m\u001b[0;34m\u001b[0m\u001b[0m\n",
      "\u001b[0;32m<ipython-input-2-c51503580554>\u001b[0m in \u001b[0;36miterate_ellipsoids\u001b[0;34m(D, y, z_init, r_init, lmbda, mu, loss, penalty, n_ellipsoid_steps, intercept)\u001b[0m\n\u001b[1;32m     14\u001b[0m     \u001b[0mA\u001b[0m \u001b[0;34m=\u001b[0m \u001b[0mr_init\u001b[0m \u001b[0;34m*\u001b[0m \u001b[0mnp\u001b[0m\u001b[0;34m.\u001b[0m\u001b[0midentity\u001b[0m\u001b[0;34m(\u001b[0m\u001b[0mD\u001b[0m\u001b[0;34m.\u001b[0m\u001b[0mshape\u001b[0m\u001b[0;34m[\u001b[0m\u001b[0;36m1\u001b[0m\u001b[0;34m]\u001b[0m\u001b[0;34m)\u001b[0m\u001b[0;34m\u001b[0m\u001b[0m\n\u001b[1;32m     15\u001b[0m     \u001b[0;32mwhile\u001b[0m \u001b[0mk\u001b[0m \u001b[0;34m<\u001b[0m \u001b[0mn_ellipsoid_steps\u001b[0m\u001b[0;34m:\u001b[0m\u001b[0;34m\u001b[0m\u001b[0m\n\u001b[0;32m---> 16\u001b[0;31m         \u001b[0mg\u001b[0m \u001b[0;34m=\u001b[0m \u001b[0mcompute_subgradient\u001b[0m\u001b[0;34m(\u001b[0m\u001b[0mz\u001b[0m\u001b[0;34m,\u001b[0m \u001b[0mD\u001b[0m\u001b[0;34m,\u001b[0m \u001b[0my\u001b[0m\u001b[0;34m,\u001b[0m \u001b[0mlmbda\u001b[0m\u001b[0;34m,\u001b[0m \u001b[0mmu\u001b[0m\u001b[0;34m,\u001b[0m \u001b[0mloss\u001b[0m\u001b[0;34m,\u001b[0m \u001b[0mpenalty\u001b[0m\u001b[0;34m,\u001b[0m \u001b[0mintercept\u001b[0m\u001b[0;34m)\u001b[0m\u001b[0;34m\u001b[0m\u001b[0m\n\u001b[0m\u001b[1;32m     17\u001b[0m         \u001b[0mz\u001b[0m\u001b[0;34m,\u001b[0m \u001b[0mA\u001b[0m \u001b[0;34m=\u001b[0m \u001b[0mupdate_ellipsoid\u001b[0m\u001b[0;34m(\u001b[0m\u001b[0mz\u001b[0m\u001b[0;34m,\u001b[0m \u001b[0mA\u001b[0m\u001b[0;34m,\u001b[0m \u001b[0mg\u001b[0m\u001b[0;34m)\u001b[0m\u001b[0;34m\u001b[0m\u001b[0m\n\u001b[1;32m     18\u001b[0m         \u001b[0mk\u001b[0m \u001b[0;34m+=\u001b[0m \u001b[0;36m1\u001b[0m\u001b[0;34m\u001b[0m\u001b[0m\n",
      "\u001b[0;32m/nfs/sequoia_data1/gmialon/screening/screening.py\u001b[0m in \u001b[0;36mcompute_subgradient\u001b[0;34m(x, D, y, lmbda, mu, loss, penalty, intercept)\u001b[0m\n\u001b[1;32m     73\u001b[0m         \u001b[0mg_1\u001b[0m \u001b[0;34m=\u001b[0m \u001b[0mcompute_safe_logistic_gradient\u001b[0m\u001b[0;34m(\u001b[0m\u001b[0moutput\u001b[0m\u001b[0;34m,\u001b[0m \u001b[0mmu\u001b[0m\u001b[0;34m)\u001b[0m\u001b[0;34m\u001b[0m\u001b[0m\n\u001b[1;32m     74\u001b[0m         \u001b[0mg_1\u001b[0m \u001b[0;34m=\u001b[0m \u001b[0;34m(\u001b[0m\u001b[0;36m1\u001b[0m \u001b[0;34m/\u001b[0m \u001b[0mD\u001b[0m\u001b[0;34m.\u001b[0m\u001b[0mshape\u001b[0m\u001b[0;34m[\u001b[0m\u001b[0;36m0\u001b[0m\u001b[0;34m]\u001b[0m\u001b[0;34m)\u001b[0m \u001b[0;34m*\u001b[0m \u001b[0;34m(\u001b[0m\u001b[0mnp\u001b[0m\u001b[0;34m.\u001b[0m\u001b[0mtranspose\u001b[0m\u001b[0;34m(\u001b[0m\u001b[0mD\u001b[0m\u001b[0;34m)\u001b[0m\u001b[0;34m.\u001b[0m\u001b[0mdot\u001b[0m\u001b[0;34m(\u001b[0m\u001b[0my\u001b[0m \u001b[0;34m*\u001b[0m \u001b[0mg_1\u001b[0m\u001b[0;34m)\u001b[0m\u001b[0;34m)\u001b[0m\u001b[0;34m\u001b[0m\u001b[0m\n\u001b[0;32m---> 75\u001b[0;31m     \u001b[0;32mif\u001b[0m \u001b[0mpenalty\u001b[0m \u001b[0;34m==\u001b[0m \u001b[0;34m'l2'\u001b[0m\u001b[0;34m:\u001b[0m\u001b[0;34m\u001b[0m\u001b[0m\n\u001b[0m\u001b[1;32m     76\u001b[0m         \u001b[0mg_2\u001b[0m \u001b[0;34m=\u001b[0m \u001b[0mnp\u001b[0m\u001b[0;34m.\u001b[0m\u001b[0mcopy\u001b[0m\u001b[0;34m(\u001b[0m\u001b[0mx\u001b[0m\u001b[0;34m)\u001b[0m\u001b[0;34m\u001b[0m\u001b[0m\n\u001b[1;32m     77\u001b[0m         \u001b[0;32mif\u001b[0m \u001b[0mintercept\u001b[0m\u001b[0;34m:\u001b[0m\u001b[0;34m\u001b[0m\u001b[0m\n",
      "\u001b[0;31mKeyboardInterrupt\u001b[0m: "
     ]
    }
   ],
   "source": [
    "for n_ellipsoid_steps in [1, 10, 100, 200]: #, 100]: #, 1000]: #, 100000]:\n",
    "    z, scaling, L, I_k_vec, g , _= experiment_get_ellipsoid(X, y, intercept=intercept, better_init=better_init, better_radius=better_radius, \n",
    "                                                         loss=loss, penalty=penalty, lmbda=lmbda, \n",
    "                                                         classification=classification, mu=mu, \n",
    "                                                         n_ellipsoid_steps=n_ellipsoid_steps)\n",
    "    z_old, A_old = experiment_get_ellipsoid_old(X, y, intercept=intercept, better_init=better_init, better_radius=better_radius, \n",
    "                                                         loss=loss, penalty=penalty, lmbda=lmbda, \n",
    "                                                         classification=classification, mu=mu, \n",
    "                                                         n_ellipsoid_steps=n_ellipsoid_steps)\n",
    "    print('L2 DISTANCE BETWEEN GROUND TRUTH AND ELLIPSOID OUTPUT', np.linalg.norm(z - ground_truth) / np.linalg.norm(ground_truth))\n",
    "    print('L2 ... WITH OLD METHOD', np.linalg.norm(z_old - ground_truth) / np.linalg.norm(ground_truth))\n",
    "    #print('GROUND TRUTH', ground_truth, 'ELLIPSOID OUTPUT', z)\n",
    "    \n",
    "    ranking = rank_dataset_accelerated(X, y, z, scaling, L, I_k_vec, g, lmbda, mu, classification, \n",
    "    loss, penalty, intercept, cut)\n",
    "    #print('RANKING', ranking, np.argsort(ranking))\n",
    "    M = L.dot(np.dot(np.diag(I_k_vec), L.T))\n",
    "    A = scaling * np.identity(X.shape[1]) - M\n",
    "    radius, _ = np.linalg.eigh(A)\n",
    "    #print(radius)\n",
    "    #print(A)\n",
    "    #radius = np.linalg.eig(A)[0]\n",
    "    #print(radius)\n",
    "    #radius = np.max(radius)\n",
    "    #print('RADIUS', np.sort(radius))\n",
    "    #print('SCALING', scaling)\n",
    "    #print('I_k_vec', I_k_vec)\n",
    "    #radius_ = np.linalg.eig(M)[0]\n",
    "    #print('RADIUS_', np.sort(radius_))\n",
    "    #volume = compute_ellipsoid_volume(radius)\n",
    "    #print('VOLUME', volume)"
   ]
  },
  {
   "cell_type": "markdown",
   "metadata": {},
   "source": [
    "# plutôt que le volume, printer le test sur l'ellipsoide ?"
   ]
  },
  {
   "cell_type": "code",
   "execution_count": null,
   "metadata": {
    "collapsed": true
   },
   "outputs": [],
   "source": []
  }
 ],
 "metadata": {
  "kernelspec": {
   "display_name": "Python 3",
   "language": "python",
   "name": "python3"
  },
  "language_info": {
   "codemirror_mode": {
    "name": "ipython",
    "version": 3
   },
   "file_extension": ".py",
   "mimetype": "text/x-python",
   "name": "python",
   "nbconvert_exporter": "python",
   "pygments_lexer": "ipython3",
   "version": "3.6.3"
  }
 },
 "nbformat": 4,
 "nbformat_minor": 2
}
