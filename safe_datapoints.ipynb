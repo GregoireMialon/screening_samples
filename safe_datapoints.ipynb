{
 "cells": [
  {
   "cell_type": "code",
   "execution_count": 276,
   "metadata": {
    "collapsed": true
   },
   "outputs": [],
   "source": [
    "import numpy as np\n",
    "import matplotlib.pyplot as plt\n",
    "from scipy.sparse import rand"
   ]
  },
  {
   "cell_type": "markdown",
   "metadata": {},
   "source": [
    "# Implementing the screening rule"
   ]
  },
  {
   "cell_type": "code",
   "execution_count": 298,
   "metadata": {},
   "outputs": [],
   "source": [
    "def compute_prox(x, mu):\n",
    "    p = np.zeros(x.size)\n",
    "    for i in range(x.size):\n",
    "        if np.abs(x[i]) > mu:\n",
    "            p[i] = (1 - mu / np.abs(x[i])) * x[i]\n",
    "    return p\n",
    "\n",
    "def compute_prox_subgradient(u, mu):\n",
    "    g = np.zeros(u.size)\n",
    "    for i in range(u.size):\n",
    "        if np.abs(u[i]) > mu:\n",
    "            g[i] = 1\n",
    "        elif np.abs(u[i]) < mu:\n",
    "            g[i] = 0\n",
    "        else:\n",
    "            g[i] = np.random.rand(1)[0]\n",
    "    return g\n",
    "\n",
    "def compute_l1_subgradient(u):\n",
    "    g = np.zeros(u.size)\n",
    "    for i in range(u.size):\n",
    "        if u[i] != 0:\n",
    "            g[i] = np.sign(u[i])\n",
    "        else:\n",
    "            g[i] = 2 * np.random.rand(1)[0] - 1\n",
    "    return g\n",
    "\n",
    "def compute_subgradient(x, D, y, lmbda, mu):\n",
    "    output = D.dot(x) - y\n",
    "    g_1 = compute_prox_subgradient(output, mu)\n",
    "    g_1 = np.transpose(D).dot(np.diag(g_1))\n",
    "    g_1 = g_1.dot(compute_prox(output, mu))\n",
    "    g_2 = compute_l1_subgradient(x)\n",
    "    g = g_1 + lmbda * g_2\n",
    "    return g\n",
    "\n",
    "def update_ellipsoid(z, A, g):\n",
    "    p = z.size\n",
    "    A_g = A.dot(g)\n",
    "    den = np.sqrt(g.dot(A_g))\n",
    "    g = (1 / den) * g\n",
    "    A_g = A.dot(g)\n",
    "    z = z - (1 / (p + 1)) * A_g\n",
    "    A = (p ** 2 / (p ** 2 - 1)) * (A - (2 / (p + 1)) * np.outer(A_g, A_g))\n",
    "    return z, A\n",
    "\n",
    "def iterate_ellipsoids(D, y, z_init, A_init, lmbda, mu, n_steps=100):\n",
    "    k = 0\n",
    "    z = z_init\n",
    "    A = A_init\n",
    "    while k < n_steps:\n",
    "        g = compute_subgradient(z, D, y, lmbda, mu)\n",
    "        z, A = update_ellipsoid(z, A, g)\n",
    "        k += 1 \n",
    "    return z, A\n",
    "\n",
    "def compute_test(D_i, y_i, z, A):\n",
    "    test_1 = D_i.dot(z) + np.sqrt( (D_i.dot(A.dot(D_i)))/ 2) - y_i\n",
    "    test_2 = - D_i.dot(z) + np.sqrt( (D_i.dot(A.dot(D_i)))/ 2) + y_i\n",
    "    return test_1, test_2\n",
    "\n",
    "def test_dataset(D, y, z, A, mu):\n",
    "    results = np.zeros(D.shape[0])\n",
    "    for i in range(D.shape[0]):\n",
    "        test = compute_test(D[i], y[i], z, A)\n",
    "        if test[0] < mu and test[1] < mu:\n",
    "            results[i] = 1\n",
    "    return results"
   ]
  },
  {
   "cell_type": "markdown",
   "metadata": {},
   "source": [
    "# Generating the data"
   ]
  },
  {
   "cell_type": "code",
   "execution_count": 299,
   "metadata": {},
   "outputs": [],
   "source": [
    "#import data, real and synthetic\n",
    "\n",
    "def make_data(param_set, noise=True):\n",
    "\n",
    "    n = param_set[0]\n",
    "    p = param_set[1]\n",
    "    sparsity = param_set[2]\n",
    "    X = np.zeros((n,p))\n",
    "    y = np.zeros(n)\n",
    "    true_params = rand(p, 1, density = sparsity).A.ravel()\n",
    "    sparse_ones = np.zeros(p)\n",
    "    for i in range(p):\n",
    "        if true_params[i] != 0:\n",
    "            sparse_ones[i] = 1\n",
    "    true_params = 2 * true_params - sparse_ones\n",
    "\n",
    "    noise_norm = 0\n",
    "\n",
    "    for i in range(n):\n",
    "        # sample x in [-1,1]^p box\n",
    "        x = 2 * np.random.rand(p) - np.ones(p) \n",
    "        X[i,:] = x\n",
    "        y[i] = np.dot(true_params,x)\n",
    "        if noise:\n",
    "            w = np.random.randn(1) / 10\n",
    "            y[i] += w\n",
    "            noise_norm = np.linalg.norm(w)\n",
    "\n",
    "    return X, y, true_params, noise_norm\n",
    "\n",
    "param_set = (100, 10, 0.2)\n",
    "X, y, true_params, _ = make_data(param_set)"
   ]
  },
  {
   "cell_type": "markdown",
   "metadata": {},
   "source": [
    "# Testing the sreening rule"
   ]
  },
  {
   "cell_type": "code",
   "execution_count": 303,
   "metadata": {},
   "outputs": [
    {
     "name": "stdout",
     "output_type": "stream",
     "text": [
      "[ 1.  1.  1.  1.  1.  1.  1.  1.  1.  1.  1.  1.  1.  1.  1.  1.  1.  1.\n",
      "  1.  1.  1.  1.  1.  1.  1.  1.  1.  1.  1.  1.  1.  1.  1.  1.  1.  1.\n",
      "  1.  1.  1.  1.  1.  1.  1.  1.  1.  1.  1.  1.  1.  1.  1.  1.  1.  1.\n",
      "  1.  1.  1.  1.  1.  1.  1.  1.  1.  1.  1.  1.  1.  1.  1.  1.  1.  1.\n",
      "  1.  1.  1.  1.  0.  1.  1.  1.  1.  1.  1.  1.  1.  1.  1.  1.  1.  1.\n",
      "  1.  1.  1.  1.  1.  1.  1.  1.  1.  1.]\n"
     ]
    }
   ],
   "source": [
    "%matplotlib notebook\n",
    "\n",
    "from mpl_toolkits.mplot3d import Axes3D \n",
    "\n",
    "# we generate the dataset, find the set X for x and execute the test.\n",
    "param_set = (100, 200, 0.1)\n",
    "X, y, true_params, _ = make_data(param_set)\n",
    "z_init = np.zeros(200)\n",
    "A_init = 20 * np.identity(200) #TODO: find rule for the radius\n",
    "lmbda = 0.1 #TODO: find rule for lmbda\n",
    "mu = 30 #TODO: evaluate sensitivity in mu\n",
    "z, A = iterate_ellipsoids(X, y, z_init, A_init, lmbda, mu)\n",
    "results = test_dataset(X, y, z, A, mu)\n",
    "print(results)\n",
    "\n",
    "visible = False\n",
    "\n",
    "if visible:\n",
    "    fig = plt.figure()\n",
    "    ax = fig.add_subplot(111, projection='3d')\n",
    "    ax.scatter(X[:,0], X[:,1], y, c=results)\n",
    "\n",
    "    # we plot the plane from which the datapoints are generated\n",
    "    x_1_true = np.linspace(-1,1,10)\n",
    "    x_2_true = np.linspace(-1,1,10)\n",
    "    X_1_true, X_2_true = np.meshgrid(x_1_true, x_2_true)\n",
    "    y_real = true_params[0] * X_1_true + true_params[1] * X_2_true\n",
    "    ax.plot_surface(X_1_true, X_2_true, y_real, alpha=0.5)\n",
    "    ax.set_xlabel('x_1')\n",
    "    ax.set_ylabel('x_2')\n",
    "    ax.set_zlabel('y')\n",
    "    plt.show()"
   ]
  },
  {
   "cell_type": "code",
   "execution_count": null,
   "metadata": {
    "collapsed": true
   },
   "outputs": [],
   "source": []
  },
  {
   "cell_type": "code",
   "execution_count": null,
   "metadata": {
    "collapsed": true
   },
   "outputs": [],
   "source": []
  }
 ],
 "metadata": {
  "kernelspec": {
   "display_name": "Python 3",
   "language": "python",
   "name": "python3"
  },
  "language_info": {
   "codemirror_mode": {
    "name": "ipython",
    "version": 3
   },
   "file_extension": ".py",
   "mimetype": "text/x-python",
   "name": "python",
   "nbconvert_exporter": "python",
   "pygments_lexer": "ipython3",
   "version": "3.6.3"
  }
 },
 "nbformat": 4,
 "nbformat_minor": 2
}
